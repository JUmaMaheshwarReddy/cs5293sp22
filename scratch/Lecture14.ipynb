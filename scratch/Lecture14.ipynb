{
 "cells": [
  {
   "cell_type": "code",
   "execution_count": 89,
   "id": "08ae3235-7e4f-4fa6-954d-44d8091e272b",
   "metadata": {},
   "outputs": [],
   "source": [
    "import spacy"
   ]
  },
  {
   "cell_type": "code",
   "execution_count": 90,
   "id": "77868b13-b06f-44dc-ac0a-1de170a3a63f",
   "metadata": {},
   "outputs": [],
   "source": [
    "#! pipenv install spacy"
   ]
  },
  {
   "cell_type": "code",
   "execution_count": 91,
   "id": "d94e884c-95d1-498a-b8f6-5c9b3ae6d4aa",
   "metadata": {},
   "outputs": [
    {
     "data": {
      "text/plain": [
       "{'spacy_version': '3.2.3',\n",
       " 'location': '/home/jang0019/.local/share/virtualenvs/jang0019-4eXq0_Zw/lib/python3.9/site-packages/spacy',\n",
       " 'platform': 'Linux-5.13.0-1019-gcp-x86_64-with-glibc2.34',\n",
       " 'python_version': '3.9.7',\n",
       " 'pipelines': {'en_core_web_md': '3.2.0', 'en_core_web_sm': '3.2.0'}}"
      ]
     },
     "execution_count": 91,
     "metadata": {},
     "output_type": "execute_result"
    }
   ],
   "source": [
    "spacy.info()"
   ]
  },
  {
   "cell_type": "code",
   "execution_count": 92,
   "id": "5a2be5f8-e4ed-45fc-a425-8622e16fc83d",
   "metadata": {},
   "outputs": [],
   "source": [
    "nlp = spacy.blank(\"en\")"
   ]
  },
  {
   "cell_type": "code",
   "execution_count": 93,
   "id": "020db1ee-9d13-49b3-937a-02694c184eb9",
   "metadata": {},
   "outputs": [
    {
     "data": {
      "text/plain": [
       "\u001b[0;31mSignature:\u001b[0m      \n",
       "\u001b[0mnlp\u001b[0m\u001b[0;34m(\u001b[0m\u001b[0;34m\u001b[0m\n",
       "\u001b[0;34m\u001b[0m    \u001b[0mtext\u001b[0m\u001b[0;34m:\u001b[0m \u001b[0mUnion\u001b[0m\u001b[0;34m[\u001b[0m\u001b[0mstr\u001b[0m\u001b[0;34m,\u001b[0m \u001b[0mspacy\u001b[0m\u001b[0;34m.\u001b[0m\u001b[0mtokens\u001b[0m\u001b[0;34m.\u001b[0m\u001b[0mdoc\u001b[0m\u001b[0;34m.\u001b[0m\u001b[0mDoc\u001b[0m\u001b[0;34m]\u001b[0m\u001b[0;34m,\u001b[0m\u001b[0;34m\u001b[0m\n",
       "\u001b[0;34m\u001b[0m    \u001b[0;34m*\u001b[0m\u001b[0;34m,\u001b[0m\u001b[0;34m\u001b[0m\n",
       "\u001b[0;34m\u001b[0m    \u001b[0mdisable\u001b[0m\u001b[0;34m:\u001b[0m \u001b[0mIterable\u001b[0m\u001b[0;34m[\u001b[0m\u001b[0mstr\u001b[0m\u001b[0;34m]\u001b[0m \u001b[0;34m=\u001b[0m \u001b[0;34m[\u001b[0m\u001b[0;34m]\u001b[0m\u001b[0;34m,\u001b[0m\u001b[0;34m\u001b[0m\n",
       "\u001b[0;34m\u001b[0m    \u001b[0mcomponent_cfg\u001b[0m\u001b[0;34m:\u001b[0m \u001b[0mOptional\u001b[0m\u001b[0;34m[\u001b[0m\u001b[0mDict\u001b[0m\u001b[0;34m[\u001b[0m\u001b[0mstr\u001b[0m\u001b[0;34m,\u001b[0m \u001b[0mDict\u001b[0m\u001b[0;34m[\u001b[0m\u001b[0mstr\u001b[0m\u001b[0;34m,\u001b[0m \u001b[0mAny\u001b[0m\u001b[0;34m]\u001b[0m\u001b[0;34m]\u001b[0m\u001b[0;34m]\u001b[0m \u001b[0;34m=\u001b[0m \u001b[0;32mNone\u001b[0m\u001b[0;34m,\u001b[0m\u001b[0;34m\u001b[0m\n",
       "\u001b[0;34m\u001b[0m\u001b[0;34m)\u001b[0m \u001b[0;34m->\u001b[0m \u001b[0mspacy\u001b[0m\u001b[0;34m.\u001b[0m\u001b[0mtokens\u001b[0m\u001b[0;34m.\u001b[0m\u001b[0mdoc\u001b[0m\u001b[0;34m.\u001b[0m\u001b[0mDoc\u001b[0m\u001b[0;34m\u001b[0m\u001b[0;34m\u001b[0m\u001b[0m\n",
       "\u001b[0;31mType:\u001b[0m            English\n",
       "\u001b[0;31mString form:\u001b[0m     <spacy.lang.en.English object at 0x7fb381205100>\n",
       "\u001b[0;31mFile:\u001b[0m            ~/.local/share/virtualenvs/jang0019-4eXq0_Zw/lib/python3.9/site-packages/spacy/lang/en/__init__.py\n",
       "\u001b[0;31mDocstring:\u001b[0m       <no docstring>\n",
       "\u001b[0;31mClass docstring:\u001b[0m\n",
       "A text-processing pipeline. Usually you'll load this once per process,\n",
       "and pass the instance around your application.\n",
       "\n",
       "Defaults (class): Settings, data and factory methods for creating the `nlp`\n",
       "    object and processing pipeline.\n",
       "lang (str): IETF language code, such as 'en'.\n",
       "\n",
       "DOCS: https://spacy.io/api/language\n",
       "\u001b[0;31mInit docstring:\u001b[0m \n",
       "Initialise a Language object.\n",
       "\n",
       "vocab (Vocab): A `Vocab` object. If `True`, a vocab is created.\n",
       "meta (dict): Custom meta data for the Language class. Is written to by\n",
       "    models to add model meta data.\n",
       "max_length (int): Maximum number of characters in a single text. The\n",
       "    current models may run out memory on extremely long texts, due to\n",
       "    large internal allocations. You should segment these texts into\n",
       "    meaningful units, e.g. paragraphs, subsections etc, before passing\n",
       "    them to spaCy. Default maximum length is 1,000,000 charas (1mb). As\n",
       "    a rule of thumb, if all pipeline components are enabled, spaCy's\n",
       "    default models currently requires roughly 1GB of temporary memory per\n",
       "    100,000 characters in one text.\n",
       "create_tokenizer (Callable): Function that takes the nlp object and\n",
       "    returns a tokenizer.\n",
       "batch_size (int): Default batch size for pipe and evaluate.\n",
       "\n",
       "DOCS: https://spacy.io/api/language#init\n",
       "\u001b[0;31mCall docstring:\u001b[0m \n",
       "Apply the pipeline to some text. The text can span multiple sentences,\n",
       "and can contain arbitrary whitespace. Alignment into the original string\n",
       "is preserved.\n",
       "\n",
       "text (Union[str, Doc]): If `str`, the text to be processed. If `Doc`,\n",
       "    the doc will be passed directly to the pipeline, skipping\n",
       "    `Language.make_doc`.\n",
       "disable (List[str]): Names of the pipeline components to disable.\n",
       "component_cfg (Dict[str, dict]): An optional dictionary with extra\n",
       "    keyword arguments for specific components.\n",
       "RETURNS (Doc): A container for accessing the annotations.\n",
       "\n",
       "DOCS: https://spacy.io/api/language#call\n"
      ]
     },
     "metadata": {},
     "output_type": "display_data"
    }
   ],
   "source": [
    "nlp?"
   ]
  },
  {
   "cell_type": "code",
   "execution_count": 94,
   "id": "4dd299ed-e9af-46e1-a480-253c1dbf518e",
   "metadata": {},
   "outputs": [],
   "source": [
    "nlp_es = spacy.blank(\"es\")\n",
    "nlp_de = spacy.blank(\"de\") # xx"
   ]
  },
  {
   "cell_type": "code",
   "execution_count": 95,
   "id": "4f217228-4faf-43aa-9ae4-46e206e5f378",
   "metadata": {},
   "outputs": [],
   "source": [
    "doc = nlp(\"Brandon's the quick brown fox jumped over the lazy dog! Thirty\")"
   ]
  },
  {
   "cell_type": "code",
   "execution_count": 96,
   "id": "3958f7eb-b94b-4a32-9622-d0b379cf366d",
   "metadata": {},
   "outputs": [
    {
     "name": "stdout",
     "output_type": "stream",
     "text": [
      "Brandon\n",
      "'s\n",
      "the\n",
      "quick\n",
      "brown\n",
      "fox\n",
      "jumped\n",
      "over\n",
      "the\n",
      "lazy\n",
      "dog\n",
      "!\n",
      "Thirty\n"
     ]
    }
   ],
   "source": [
    "for token in doc:\n",
    "    print(f\"{token.text}\")"
   ]
  },
  {
   "cell_type": "code",
   "execution_count": 97,
   "id": "a1ac3756-0030-4b14-9f0a-fedabec1adf2",
   "metadata": {},
   "outputs": [
    {
     "data": {
      "text/plain": [
       "spacy.tokens.token.Token"
      ]
     },
     "execution_count": 97,
     "metadata": {},
     "output_type": "execute_result"
    }
   ],
   "source": [
    "tok = doc[5]\n",
    "tok\n",
    "type(tok)"
   ]
  },
  {
   "cell_type": "code",
   "execution_count": 98,
   "id": "819a0cee-d790-4431-9693-f24f07144a3c",
   "metadata": {},
   "outputs": [
    {
     "data": {
      "text/plain": [
       "spacy.tokens.span.Span"
      ]
     },
     "execution_count": 98,
     "metadata": {},
     "output_type": "execute_result"
    }
   ],
   "source": [
    "span1 = doc[3:6]\n",
    "span1\n",
    "type(span1)"
   ]
  },
  {
   "cell_type": "code",
   "execution_count": 99,
   "id": "f8fba238-b7d0-4d36-b8c8-ee3315648da3",
   "metadata": {},
   "outputs": [
    {
     "data": {
      "text/plain": [
       "5"
      ]
     },
     "execution_count": 99,
     "metadata": {},
     "output_type": "execute_result"
    }
   ],
   "source": [
    "tok.i"
   ]
  },
  {
   "cell_type": "code",
   "execution_count": 100,
   "id": "d36fd1ac-a0e7-4ffe-87cb-96a57cdae353",
   "metadata": {},
   "outputs": [
    {
     "data": {
      "text/plain": [
       "True"
      ]
     },
     "execution_count": 100,
     "metadata": {},
     "output_type": "execute_result"
    }
   ],
   "source": [
    "tok.is_alpha"
   ]
  },
  {
   "cell_type": "code",
   "execution_count": 101,
   "id": "97637409-39e1-4c3d-990b-dc5b587f6bc5",
   "metadata": {},
   "outputs": [
    {
     "data": {
      "text/plain": [
       "False"
      ]
     },
     "execution_count": 101,
     "metadata": {},
     "output_type": "execute_result"
    }
   ],
   "source": [
    "tok.is_punct"
   ]
  },
  {
   "cell_type": "code",
   "execution_count": 102,
   "id": "893b30b0-4620-4a88-a4eb-a62763b9a6b3",
   "metadata": {},
   "outputs": [
    {
     "data": {
      "text/plain": [
       "False"
      ]
     },
     "execution_count": 102,
     "metadata": {},
     "output_type": "execute_result"
    }
   ],
   "source": [
    "tok.like_num"
   ]
  },
  {
   "cell_type": "code",
   "execution_count": 103,
   "id": "749fcebf-f871-4d9b-b776-7428e14cf653",
   "metadata": {},
   "outputs": [
    {
     "data": {
      "text/plain": [
       "True"
      ]
     },
     "execution_count": 103,
     "metadata": {},
     "output_type": "execute_result"
    }
   ],
   "source": [
    "doc[-1].like_num # Works for numbers and textul representations of numbers"
   ]
  },
  {
   "cell_type": "code",
   "execution_count": 104,
   "id": "0b028170-4ac7-4f6a-8ebb-e7ab7277c510",
   "metadata": {},
   "outputs": [],
   "source": [
    "#! pipenv run python -m spacy download en_core_web_sm"
   ]
  },
  {
   "cell_type": "code",
   "execution_count": 105,
   "id": "111707a6-acad-4ffa-9944-f26dd9926276",
   "metadata": {},
   "outputs": [],
   "source": [
    "nlp = spacy.load('en_core_web_sm')"
   ]
  },
  {
   "cell_type": "code",
   "execution_count": 106,
   "id": "de57d43c-b96f-4cff-b5de-95af82a34b20",
   "metadata": {},
   "outputs": [],
   "source": [
    "doc = nlp(\"How much wood could a Woodchuck chuck if a wood chuck could chuck wood.\")"
   ]
  },
  {
   "cell_type": "code",
   "execution_count": 107,
   "id": "07378ca6-7e6d-41ed-af81-011e296c08cd",
   "metadata": {},
   "outputs": [
    {
     "name": "stdout",
     "output_type": "stream",
     "text": [
      "How--SCONJ\n",
      "much--ADJ\n",
      "wood--NOUN\n",
      "could--AUX\n",
      "a--DET\n",
      "Woodchuck--PROPN\n",
      "chuck--NOUN\n",
      "if--SCONJ\n",
      "a--DET\n",
      "wood--NOUN\n",
      "chuck--NOUN\n",
      "could--AUX\n",
      "chuck--VERB\n",
      "wood--NOUN\n",
      ".--PUNCT\n"
     ]
    }
   ],
   "source": [
    "for token in doc:\n",
    "    print(f\"{token.text}--{token.pos_}\")"
   ]
  },
  {
   "cell_type": "code",
   "execution_count": 108,
   "id": "3d51b03d-d965-41e2-94a0-d7a931b4e2b1",
   "metadata": {},
   "outputs": [
    {
     "name": "stdout",
     "output_type": "stream",
     "text": [
      "How--SCONJ--advmod--much\n",
      "much--ADJ--amod--wood\n",
      "wood--NOUN--dobj--chuck\n",
      "could--AUX--aux--chuck\n",
      "a--DET--det--chuck\n",
      "Woodchuck--PROPN--compound--chuck\n",
      "chuck--NOUN--ROOT--chuck\n",
      "if--SCONJ--mark--chuck\n",
      "a--DET--det--chuck\n",
      "wood--NOUN--compound--chuck\n",
      "chuck--NOUN--nsubj--chuck\n",
      "could--AUX--aux--chuck\n",
      "chuck--VERB--advcl--chuck\n",
      "wood--NOUN--dobj--chuck\n",
      ".--PUNCT--punct--chuck\n"
     ]
    }
   ],
   "source": [
    "for token in doc:\n",
    "    print(f\"{token.text}--{token.pos_}--{token.dep_}--{token.head.text}\")"
   ]
  },
  {
   "cell_type": "code",
   "execution_count": 109,
   "id": "cbace6af-19ce-4c97-a007-764d68d0f54b",
   "metadata": {},
   "outputs": [
    {
     "data": {
      "text/html": [
       "<span class=\"tex2jax_ignore\"><svg xmlns=\"http://www.w3.org/2000/svg\" xmlns:xlink=\"http://www.w3.org/1999/xlink\" xml:lang=\"en\" id=\"0526ad7aa794445d846048eaf997db0c-0\" class=\"displacy\" width=\"2500\" height=\"662.0\" direction=\"ltr\" style=\"max-width: none; height: 662.0px; color: #000000; background: #ffffff; font-family: Arial; direction: ltr\">\n",
       "<text class=\"displacy-token\" fill=\"currentColor\" text-anchor=\"middle\" y=\"572.0\">\n",
       "    <tspan class=\"displacy-word\" fill=\"currentColor\" x=\"50\">How</tspan>\n",
       "    <tspan class=\"displacy-tag\" dy=\"2em\" fill=\"currentColor\" x=\"50\">SCONJ</tspan>\n",
       "</text>\n",
       "\n",
       "<text class=\"displacy-token\" fill=\"currentColor\" text-anchor=\"middle\" y=\"572.0\">\n",
       "    <tspan class=\"displacy-word\" fill=\"currentColor\" x=\"225\">much</tspan>\n",
       "    <tspan class=\"displacy-tag\" dy=\"2em\" fill=\"currentColor\" x=\"225\">ADJ</tspan>\n",
       "</text>\n",
       "\n",
       "<text class=\"displacy-token\" fill=\"currentColor\" text-anchor=\"middle\" y=\"572.0\">\n",
       "    <tspan class=\"displacy-word\" fill=\"currentColor\" x=\"400\">wood</tspan>\n",
       "    <tspan class=\"displacy-tag\" dy=\"2em\" fill=\"currentColor\" x=\"400\">NOUN</tspan>\n",
       "</text>\n",
       "\n",
       "<text class=\"displacy-token\" fill=\"currentColor\" text-anchor=\"middle\" y=\"572.0\">\n",
       "    <tspan class=\"displacy-word\" fill=\"currentColor\" x=\"575\">could</tspan>\n",
       "    <tspan class=\"displacy-tag\" dy=\"2em\" fill=\"currentColor\" x=\"575\">AUX</tspan>\n",
       "</text>\n",
       "\n",
       "<text class=\"displacy-token\" fill=\"currentColor\" text-anchor=\"middle\" y=\"572.0\">\n",
       "    <tspan class=\"displacy-word\" fill=\"currentColor\" x=\"750\">a</tspan>\n",
       "    <tspan class=\"displacy-tag\" dy=\"2em\" fill=\"currentColor\" x=\"750\">DET</tspan>\n",
       "</text>\n",
       "\n",
       "<text class=\"displacy-token\" fill=\"currentColor\" text-anchor=\"middle\" y=\"572.0\">\n",
       "    <tspan class=\"displacy-word\" fill=\"currentColor\" x=\"925\">Woodchuck</tspan>\n",
       "    <tspan class=\"displacy-tag\" dy=\"2em\" fill=\"currentColor\" x=\"925\">PROPN</tspan>\n",
       "</text>\n",
       "\n",
       "<text class=\"displacy-token\" fill=\"currentColor\" text-anchor=\"middle\" y=\"572.0\">\n",
       "    <tspan class=\"displacy-word\" fill=\"currentColor\" x=\"1100\">chuck</tspan>\n",
       "    <tspan class=\"displacy-tag\" dy=\"2em\" fill=\"currentColor\" x=\"1100\">NOUN</tspan>\n",
       "</text>\n",
       "\n",
       "<text class=\"displacy-token\" fill=\"currentColor\" text-anchor=\"middle\" y=\"572.0\">\n",
       "    <tspan class=\"displacy-word\" fill=\"currentColor\" x=\"1275\">if</tspan>\n",
       "    <tspan class=\"displacy-tag\" dy=\"2em\" fill=\"currentColor\" x=\"1275\">SCONJ</tspan>\n",
       "</text>\n",
       "\n",
       "<text class=\"displacy-token\" fill=\"currentColor\" text-anchor=\"middle\" y=\"572.0\">\n",
       "    <tspan class=\"displacy-word\" fill=\"currentColor\" x=\"1450\">a</tspan>\n",
       "    <tspan class=\"displacy-tag\" dy=\"2em\" fill=\"currentColor\" x=\"1450\">DET</tspan>\n",
       "</text>\n",
       "\n",
       "<text class=\"displacy-token\" fill=\"currentColor\" text-anchor=\"middle\" y=\"572.0\">\n",
       "    <tspan class=\"displacy-word\" fill=\"currentColor\" x=\"1625\">wood</tspan>\n",
       "    <tspan class=\"displacy-tag\" dy=\"2em\" fill=\"currentColor\" x=\"1625\">NOUN</tspan>\n",
       "</text>\n",
       "\n",
       "<text class=\"displacy-token\" fill=\"currentColor\" text-anchor=\"middle\" y=\"572.0\">\n",
       "    <tspan class=\"displacy-word\" fill=\"currentColor\" x=\"1800\">chuck</tspan>\n",
       "    <tspan class=\"displacy-tag\" dy=\"2em\" fill=\"currentColor\" x=\"1800\">NOUN</tspan>\n",
       "</text>\n",
       "\n",
       "<text class=\"displacy-token\" fill=\"currentColor\" text-anchor=\"middle\" y=\"572.0\">\n",
       "    <tspan class=\"displacy-word\" fill=\"currentColor\" x=\"1975\">could</tspan>\n",
       "    <tspan class=\"displacy-tag\" dy=\"2em\" fill=\"currentColor\" x=\"1975\">AUX</tspan>\n",
       "</text>\n",
       "\n",
       "<text class=\"displacy-token\" fill=\"currentColor\" text-anchor=\"middle\" y=\"572.0\">\n",
       "    <tspan class=\"displacy-word\" fill=\"currentColor\" x=\"2150\">chuck</tspan>\n",
       "    <tspan class=\"displacy-tag\" dy=\"2em\" fill=\"currentColor\" x=\"2150\">VERB</tspan>\n",
       "</text>\n",
       "\n",
       "<text class=\"displacy-token\" fill=\"currentColor\" text-anchor=\"middle\" y=\"572.0\">\n",
       "    <tspan class=\"displacy-word\" fill=\"currentColor\" x=\"2325\">wood.</tspan>\n",
       "    <tspan class=\"displacy-tag\" dy=\"2em\" fill=\"currentColor\" x=\"2325\">NOUN</tspan>\n",
       "</text>\n",
       "\n",
       "<g class=\"displacy-arrow\">\n",
       "    <path class=\"displacy-arc\" id=\"arrow-0526ad7aa794445d846048eaf997db0c-0-0\" stroke-width=\"2px\" d=\"M70,527.0 C70,439.5 200.0,439.5 200.0,527.0\" fill=\"none\" stroke=\"currentColor\"/>\n",
       "    <text dy=\"1.25em\" style=\"font-size: 0.8em; letter-spacing: 1px\">\n",
       "        <textPath xlink:href=\"#arrow-0526ad7aa794445d846048eaf997db0c-0-0\" class=\"displacy-label\" startOffset=\"50%\" side=\"left\" fill=\"currentColor\" text-anchor=\"middle\">advmod</textPath>\n",
       "    </text>\n",
       "    <path class=\"displacy-arrowhead\" d=\"M70,529.0 L62,517.0 78,517.0\" fill=\"currentColor\"/>\n",
       "</g>\n",
       "\n",
       "<g class=\"displacy-arrow\">\n",
       "    <path class=\"displacy-arc\" id=\"arrow-0526ad7aa794445d846048eaf997db0c-0-1\" stroke-width=\"2px\" d=\"M245,527.0 C245,439.5 375.0,439.5 375.0,527.0\" fill=\"none\" stroke=\"currentColor\"/>\n",
       "    <text dy=\"1.25em\" style=\"font-size: 0.8em; letter-spacing: 1px\">\n",
       "        <textPath xlink:href=\"#arrow-0526ad7aa794445d846048eaf997db0c-0-1\" class=\"displacy-label\" startOffset=\"50%\" side=\"left\" fill=\"currentColor\" text-anchor=\"middle\">amod</textPath>\n",
       "    </text>\n",
       "    <path class=\"displacy-arrowhead\" d=\"M245,529.0 L237,517.0 253,517.0\" fill=\"currentColor\"/>\n",
       "</g>\n",
       "\n",
       "<g class=\"displacy-arrow\">\n",
       "    <path class=\"displacy-arc\" id=\"arrow-0526ad7aa794445d846048eaf997db0c-0-2\" stroke-width=\"2px\" d=\"M420,527.0 C420,177.0 1090.0,177.0 1090.0,527.0\" fill=\"none\" stroke=\"currentColor\"/>\n",
       "    <text dy=\"1.25em\" style=\"font-size: 0.8em; letter-spacing: 1px\">\n",
       "        <textPath xlink:href=\"#arrow-0526ad7aa794445d846048eaf997db0c-0-2\" class=\"displacy-label\" startOffset=\"50%\" side=\"left\" fill=\"currentColor\" text-anchor=\"middle\">dobj</textPath>\n",
       "    </text>\n",
       "    <path class=\"displacy-arrowhead\" d=\"M420,529.0 L412,517.0 428,517.0\" fill=\"currentColor\"/>\n",
       "</g>\n",
       "\n",
       "<g class=\"displacy-arrow\">\n",
       "    <path class=\"displacy-arc\" id=\"arrow-0526ad7aa794445d846048eaf997db0c-0-3\" stroke-width=\"2px\" d=\"M595,527.0 C595,264.5 1085.0,264.5 1085.0,527.0\" fill=\"none\" stroke=\"currentColor\"/>\n",
       "    <text dy=\"1.25em\" style=\"font-size: 0.8em; letter-spacing: 1px\">\n",
       "        <textPath xlink:href=\"#arrow-0526ad7aa794445d846048eaf997db0c-0-3\" class=\"displacy-label\" startOffset=\"50%\" side=\"left\" fill=\"currentColor\" text-anchor=\"middle\">aux</textPath>\n",
       "    </text>\n",
       "    <path class=\"displacy-arrowhead\" d=\"M595,529.0 L587,517.0 603,517.0\" fill=\"currentColor\"/>\n",
       "</g>\n",
       "\n",
       "<g class=\"displacy-arrow\">\n",
       "    <path class=\"displacy-arc\" id=\"arrow-0526ad7aa794445d846048eaf997db0c-0-4\" stroke-width=\"2px\" d=\"M770,527.0 C770,352.0 1080.0,352.0 1080.0,527.0\" fill=\"none\" stroke=\"currentColor\"/>\n",
       "    <text dy=\"1.25em\" style=\"font-size: 0.8em; letter-spacing: 1px\">\n",
       "        <textPath xlink:href=\"#arrow-0526ad7aa794445d846048eaf997db0c-0-4\" class=\"displacy-label\" startOffset=\"50%\" side=\"left\" fill=\"currentColor\" text-anchor=\"middle\">det</textPath>\n",
       "    </text>\n",
       "    <path class=\"displacy-arrowhead\" d=\"M770,529.0 L762,517.0 778,517.0\" fill=\"currentColor\"/>\n",
       "</g>\n",
       "\n",
       "<g class=\"displacy-arrow\">\n",
       "    <path class=\"displacy-arc\" id=\"arrow-0526ad7aa794445d846048eaf997db0c-0-5\" stroke-width=\"2px\" d=\"M945,527.0 C945,439.5 1075.0,439.5 1075.0,527.0\" fill=\"none\" stroke=\"currentColor\"/>\n",
       "    <text dy=\"1.25em\" style=\"font-size: 0.8em; letter-spacing: 1px\">\n",
       "        <textPath xlink:href=\"#arrow-0526ad7aa794445d846048eaf997db0c-0-5\" class=\"displacy-label\" startOffset=\"50%\" side=\"left\" fill=\"currentColor\" text-anchor=\"middle\">compound</textPath>\n",
       "    </text>\n",
       "    <path class=\"displacy-arrowhead\" d=\"M945,529.0 L937,517.0 953,517.0\" fill=\"currentColor\"/>\n",
       "</g>\n",
       "\n",
       "<g class=\"displacy-arrow\">\n",
       "    <path class=\"displacy-arc\" id=\"arrow-0526ad7aa794445d846048eaf997db0c-0-6\" stroke-width=\"2px\" d=\"M1295,527.0 C1295,89.5 2145.0,89.5 2145.0,527.0\" fill=\"none\" stroke=\"currentColor\"/>\n",
       "    <text dy=\"1.25em\" style=\"font-size: 0.8em; letter-spacing: 1px\">\n",
       "        <textPath xlink:href=\"#arrow-0526ad7aa794445d846048eaf997db0c-0-6\" class=\"displacy-label\" startOffset=\"50%\" side=\"left\" fill=\"currentColor\" text-anchor=\"middle\">mark</textPath>\n",
       "    </text>\n",
       "    <path class=\"displacy-arrowhead\" d=\"M1295,529.0 L1287,517.0 1303,517.0\" fill=\"currentColor\"/>\n",
       "</g>\n",
       "\n",
       "<g class=\"displacy-arrow\">\n",
       "    <path class=\"displacy-arc\" id=\"arrow-0526ad7aa794445d846048eaf997db0c-0-7\" stroke-width=\"2px\" d=\"M1470,527.0 C1470,352.0 1780.0,352.0 1780.0,527.0\" fill=\"none\" stroke=\"currentColor\"/>\n",
       "    <text dy=\"1.25em\" style=\"font-size: 0.8em; letter-spacing: 1px\">\n",
       "        <textPath xlink:href=\"#arrow-0526ad7aa794445d846048eaf997db0c-0-7\" class=\"displacy-label\" startOffset=\"50%\" side=\"left\" fill=\"currentColor\" text-anchor=\"middle\">det</textPath>\n",
       "    </text>\n",
       "    <path class=\"displacy-arrowhead\" d=\"M1470,529.0 L1462,517.0 1478,517.0\" fill=\"currentColor\"/>\n",
       "</g>\n",
       "\n",
       "<g class=\"displacy-arrow\">\n",
       "    <path class=\"displacy-arc\" id=\"arrow-0526ad7aa794445d846048eaf997db0c-0-8\" stroke-width=\"2px\" d=\"M1645,527.0 C1645,439.5 1775.0,439.5 1775.0,527.0\" fill=\"none\" stroke=\"currentColor\"/>\n",
       "    <text dy=\"1.25em\" style=\"font-size: 0.8em; letter-spacing: 1px\">\n",
       "        <textPath xlink:href=\"#arrow-0526ad7aa794445d846048eaf997db0c-0-8\" class=\"displacy-label\" startOffset=\"50%\" side=\"left\" fill=\"currentColor\" text-anchor=\"middle\">compound</textPath>\n",
       "    </text>\n",
       "    <path class=\"displacy-arrowhead\" d=\"M1645,529.0 L1637,517.0 1653,517.0\" fill=\"currentColor\"/>\n",
       "</g>\n",
       "\n",
       "<g class=\"displacy-arrow\">\n",
       "    <path class=\"displacy-arc\" id=\"arrow-0526ad7aa794445d846048eaf997db0c-0-9\" stroke-width=\"2px\" d=\"M1820,527.0 C1820,352.0 2130.0,352.0 2130.0,527.0\" fill=\"none\" stroke=\"currentColor\"/>\n",
       "    <text dy=\"1.25em\" style=\"font-size: 0.8em; letter-spacing: 1px\">\n",
       "        <textPath xlink:href=\"#arrow-0526ad7aa794445d846048eaf997db0c-0-9\" class=\"displacy-label\" startOffset=\"50%\" side=\"left\" fill=\"currentColor\" text-anchor=\"middle\">nsubj</textPath>\n",
       "    </text>\n",
       "    <path class=\"displacy-arrowhead\" d=\"M1820,529.0 L1812,517.0 1828,517.0\" fill=\"currentColor\"/>\n",
       "</g>\n",
       "\n",
       "<g class=\"displacy-arrow\">\n",
       "    <path class=\"displacy-arc\" id=\"arrow-0526ad7aa794445d846048eaf997db0c-0-10\" stroke-width=\"2px\" d=\"M1995,527.0 C1995,439.5 2125.0,439.5 2125.0,527.0\" fill=\"none\" stroke=\"currentColor\"/>\n",
       "    <text dy=\"1.25em\" style=\"font-size: 0.8em; letter-spacing: 1px\">\n",
       "        <textPath xlink:href=\"#arrow-0526ad7aa794445d846048eaf997db0c-0-10\" class=\"displacy-label\" startOffset=\"50%\" side=\"left\" fill=\"currentColor\" text-anchor=\"middle\">aux</textPath>\n",
       "    </text>\n",
       "    <path class=\"displacy-arrowhead\" d=\"M1995,529.0 L1987,517.0 2003,517.0\" fill=\"currentColor\"/>\n",
       "</g>\n",
       "\n",
       "<g class=\"displacy-arrow\">\n",
       "    <path class=\"displacy-arc\" id=\"arrow-0526ad7aa794445d846048eaf997db0c-0-11\" stroke-width=\"2px\" d=\"M1120,527.0 C1120,2.0 2150.0,2.0 2150.0,527.0\" fill=\"none\" stroke=\"currentColor\"/>\n",
       "    <text dy=\"1.25em\" style=\"font-size: 0.8em; letter-spacing: 1px\">\n",
       "        <textPath xlink:href=\"#arrow-0526ad7aa794445d846048eaf997db0c-0-11\" class=\"displacy-label\" startOffset=\"50%\" side=\"left\" fill=\"currentColor\" text-anchor=\"middle\">advcl</textPath>\n",
       "    </text>\n",
       "    <path class=\"displacy-arrowhead\" d=\"M2150.0,529.0 L2158.0,517.0 2142.0,517.0\" fill=\"currentColor\"/>\n",
       "</g>\n",
       "\n",
       "<g class=\"displacy-arrow\">\n",
       "    <path class=\"displacy-arc\" id=\"arrow-0526ad7aa794445d846048eaf997db0c-0-12\" stroke-width=\"2px\" d=\"M2170,527.0 C2170,439.5 2300.0,439.5 2300.0,527.0\" fill=\"none\" stroke=\"currentColor\"/>\n",
       "    <text dy=\"1.25em\" style=\"font-size: 0.8em; letter-spacing: 1px\">\n",
       "        <textPath xlink:href=\"#arrow-0526ad7aa794445d846048eaf997db0c-0-12\" class=\"displacy-label\" startOffset=\"50%\" side=\"left\" fill=\"currentColor\" text-anchor=\"middle\">dobj</textPath>\n",
       "    </text>\n",
       "    <path class=\"displacy-arrowhead\" d=\"M2300.0,529.0 L2308.0,517.0 2292.0,517.0\" fill=\"currentColor\"/>\n",
       "</g>\n",
       "</svg></span>"
      ],
      "text/plain": [
       "<IPython.core.display.HTML object>"
      ]
     },
     "metadata": {},
     "output_type": "display_data"
    }
   ],
   "source": [
    "from spacy import displacy\n",
    "\n",
    "displacy.render(doc, style=\"dep\")"
   ]
  },
  {
   "cell_type": "code",
   "execution_count": 110,
   "id": "2dde40de-9974-4af0-952c-25f69a0c674a",
   "metadata": {},
   "outputs": [
    {
     "data": {
      "text/plain": [
       "How much wood could a Woodchuck chuck if a wood chuck could chuck wood."
      ]
     },
     "execution_count": 110,
     "metadata": {},
     "output_type": "execute_result"
    }
   ],
   "source": [
    "doc"
   ]
  },
  {
   "cell_type": "code",
   "execution_count": 111,
   "id": "9baedfe4-8558-49c2-b077-68ff3b94a19b",
   "metadata": {},
   "outputs": [
    {
     "name": "stdout",
     "output_type": "stream",
     "text": [
      "Woodchuck->PERSON\n",
      "chuck wood->PERSON\n"
     ]
    }
   ],
   "source": [
    "for ent in doc.ents:\n",
    "    print(f\"{ent.text}->{ent.label_}\")"
   ]
  },
  {
   "cell_type": "code",
   "execution_count": 112,
   "id": "d5300a3f-3e5a-481f-8cd5-7dc76da8c955",
   "metadata": {},
   "outputs": [],
   "source": [
    "doc = nlp(\"Apple shared tanked with the release of the buggy software written by Greg.\")"
   ]
  },
  {
   "cell_type": "code",
   "execution_count": 113,
   "id": "63be719d-8bf8-4db4-931b-262606a28dd9",
   "metadata": {},
   "outputs": [
    {
     "name": "stdout",
     "output_type": "stream",
     "text": [
      "Apple->ORG\n",
      "Greg->PERSON\n"
     ]
    }
   ],
   "source": [
    "for ent in doc.ents:\n",
    "    print(f\"{ent.text}->{ent.label_}\")"
   ]
  },
  {
   "cell_type": "code",
   "execution_count": 114,
   "id": "758c1c25-728f-47c1-bec0-810059d96272",
   "metadata": {},
   "outputs": [
    {
     "data": {
      "text/plain": [
       "'Companies, agencies, institutions, etc.'"
      ]
     },
     "execution_count": 114,
     "metadata": {},
     "output_type": "execute_result"
    }
   ],
   "source": [
    "spacy.explain(\"ORG\")"
   ]
  },
  {
   "cell_type": "code",
   "execution_count": 115,
   "id": "123c52e8-35ec-4281-9eec-c8c61815c76a",
   "metadata": {},
   "outputs": [
    {
     "data": {
      "text/plain": [
       "'marker'"
      ]
     },
     "execution_count": 115,
     "metadata": {},
     "output_type": "execute_result"
    }
   ],
   "source": [
    "spacy.explain(\"mark\")"
   ]
  },
  {
   "cell_type": "code",
   "execution_count": 116,
   "id": "39d2333c-dda5-46ef-98c4-9836233d833b",
   "metadata": {},
   "outputs": [
    {
     "name": "stdout",
     "output_type": "stream",
     "text": [
      "Buffalo--PROPN--compound--buffalo\n",
      "buffalo--PROPN--compound--buffalo\n",
      "Buffalo--PROPN--compound--buffalo\n",
      "buffalo--PROPN--compound--buffalo\n",
      "buffalo--PROPN--compound--buffalo\n",
      "buffalo--PROPN--compound--buffalo\n",
      "Buffalo--PROPN--compound--buffalo\n",
      "buffalo--PROPN--ROOT--buffalo\n"
     ]
    }
   ],
   "source": [
    "doc = nlp(\"Buffalo buffalo Buffalo buffalo buffalo buffalo Buffalo buffalo\")\n",
    "\n",
    "for ent in doc.ents:\n",
    "    print(f\"{ent.text}->{ent.label_}\")\n",
    "\n",
    "for token in doc:\n",
    "    print(f\"{token.text}--{token.pos_}--{token.dep_}--{token.head.text}\")"
   ]
  },
  {
   "cell_type": "code",
   "execution_count": 117,
   "id": "c77920d8-6078-4063-b589-537b6e507251",
   "metadata": {},
   "outputs": [],
   "source": [
    "#! pipenv run python3 -m spacy download en_core_web_md"
   ]
  },
  {
   "cell_type": "code",
   "execution_count": 118,
   "id": "2b73e424-8c2d-4ef1-8ac5-cb135115a783",
   "metadata": {},
   "outputs": [],
   "source": [
    "#! pipenv run python3 -m spacy download en_core_web_lg"
   ]
  },
  {
   "cell_type": "code",
   "execution_count": 119,
   "id": "48a3e942-43df-47b7-a320-aaf4f7417572",
   "metadata": {},
   "outputs": [],
   "source": [
    "#nlp = spacy.load('en_core_web_lg')"
   ]
  },
  {
   "cell_type": "code",
   "execution_count": null,
   "id": "f5894e7e-c89e-4f10-869d-379b6c09e8bc",
   "metadata": {},
   "outputs": [],
   "source": []
  },
  {
   "cell_type": "code",
   "execution_count": 120,
   "id": "4b84a16e-421e-44b6-a992-751d23c59c36",
   "metadata": {},
   "outputs": [],
   "source": [
    "doc = nlp(\"Buffalo buffalo Buffalo buffalo buffalo buffalo Buffalo buffalo\")"
   ]
  },
  {
   "cell_type": "code",
   "execution_count": 121,
   "id": "00154829-8178-488e-a766-ede2ac47f1fb",
   "metadata": {},
   "outputs": [
    {
     "name": "stdout",
     "output_type": "stream",
     "text": [
      "Buffalo--PROPN--compound--buffalo\n",
      "buffalo--PROPN--compound--buffalo\n",
      "Buffalo--PROPN--compound--buffalo\n",
      "buffalo--PROPN--compound--buffalo\n",
      "buffalo--PROPN--compound--buffalo\n",
      "buffalo--PROPN--compound--buffalo\n",
      "Buffalo--PROPN--compound--buffalo\n",
      "buffalo--PROPN--ROOT--buffalo\n"
     ]
    }
   ],
   "source": [
    "for ent in doc.ents:\n",
    "    print(f\"{ent.text}->{ent.label_}\")\n",
    "\n",
    "for token in doc:\n",
    "    print(f\"{token.text}--{token.pos_}--{token.dep_}--{token.head.text}\")"
   ]
  },
  {
   "cell_type": "code",
   "execution_count": 122,
   "id": "2f9fab9d-7dcc-4050-8f9a-547cee5f414d",
   "metadata": {},
   "outputs": [],
   "source": [
    "from spacy.matcher import Matcher"
   ]
  },
  {
   "cell_type": "code",
   "execution_count": 123,
   "id": "8dfd75a0-c338-4efd-931f-1ba4dc1f573e",
   "metadata": {},
   "outputs": [],
   "source": [
    "matcher = Matcher(nlp.vocab)"
   ]
  },
  {
   "cell_type": "code",
   "execution_count": 124,
   "id": "97de94f6-bba8-4458-a97b-6570d5ccc460",
   "metadata": {},
   "outputs": [],
   "source": [
    "pattern = [\n",
    "    {\"TEXT\": \"Android\"},\n",
    "    {\"TEXT\": \"X\"}\n",
    "]\n",
    "matcher.add(\"ANDROID_PATTERN\", [pattern])"
   ]
  },
  {
   "cell_type": "code",
   "execution_count": 125,
   "id": "758e7bc1-7874-4abe-8056-4fca350ebb7c",
   "metadata": {},
   "outputs": [],
   "source": [
    "doc = nlp(\"The class had a farm with pigs, cows, and bombs and they managed it on their Android X phone.\")"
   ]
  },
  {
   "cell_type": "code",
   "execution_count": 126,
   "id": "04ccf7e4-db19-4d16-b4c6-a8806d29e3ec",
   "metadata": {},
   "outputs": [
    {
     "name": "stdout",
     "output_type": "stream",
     "text": [
      "Android->ORG\n",
      "The--DET--det--class\n",
      "class--NOUN--nsubj--had\n",
      "had--VERB--ROOT--had\n",
      "a--DET--det--farm\n",
      "farm--NOUN--dobj--had\n",
      "with--ADP--prep--farm\n",
      "pigs--NOUN--pobj--with\n",
      ",--PUNCT--punct--pigs\n",
      "cows--NOUN--conj--pigs\n",
      ",--PUNCT--punct--cows\n",
      "and--CCONJ--cc--cows\n",
      "bombs--NOUN--conj--cows\n",
      "and--CCONJ--cc--had\n",
      "they--PRON--nsubj--managed\n",
      "managed--VERB--conj--had\n",
      "it--PRON--dobj--managed\n",
      "on--ADP--prep--managed\n",
      "their--PRON--poss--phone\n",
      "Android--PROPN--compound--X\n",
      "X--NOUN--compound--phone\n",
      "phone--NOUN--pobj--on\n",
      ".--PUNCT--punct--managed\n"
     ]
    }
   ],
   "source": [
    "for ent in doc.ents:\n",
    "    print(f\"{ent.text}->{ent.label_}\")\n",
    "\n",
    "for token in doc:\n",
    "    print(f\"{token.text}--{token.pos_}--{token.dep_}--{token.head.text}\")"
   ]
  },
  {
   "cell_type": "code",
   "execution_count": 127,
   "id": "2ddd8b8c-a9c2-43cb-8d67-1803d7f94e7c",
   "metadata": {},
   "outputs": [
    {
     "data": {
      "text/plain": [
       "[(10465695285070383609, 18, 20)]"
      ]
     },
     "execution_count": 127,
     "metadata": {},
     "output_type": "execute_result"
    }
   ],
   "source": [
    "matches = matcher(doc)\n",
    "matches"
   ]
  },
  {
   "cell_type": "code",
   "execution_count": 128,
   "id": "91f4f1cc-12d2-4ffc-b6dd-f4a0cffaa797",
   "metadata": {},
   "outputs": [
    {
     "name": "stdout",
     "output_type": "stream",
     "text": [
      "Android X\n"
     ]
    }
   ],
   "source": [
    "for match_id, start, end in matches:\n",
    "    matched_span = doc[start:end]\n",
    "    print(f\"{matched_span.text}\")"
   ]
  },
  {
   "cell_type": "code",
   "execution_count": 129,
   "id": "22001290-4e9b-4b4f-a9f8-f94e5f7f72a7",
   "metadata": {},
   "outputs": [],
   "source": [
    "pattern1 = [\n",
    "    {\"TEXT\": \"Android\"},\n",
    "    {\"TEXT\": \"X\"},\n",
    "]\n",
    "pattern2 = [\n",
    "    {\"IS_DIGIT\", True},\n",
    "    {\"LOWER\", \"android\"},\n",
    "    {\"IS_PUNCT\": True, \"OP\": \"?\"},\n",
    "    {\"POS\": \"NOUN\"}\n",
    "]"
   ]
  },
  {
   "cell_type": "code",
   "execution_count": 130,
   "id": "068cfe46-76e3-4a73-8ae6-f76d159aba3a",
   "metadata": {},
   "outputs": [
    {
     "data": {
      "text/plain": [
       "12859657019542931961"
      ]
     },
     "execution_count": 130,
     "metadata": {},
     "output_type": "execute_result"
    }
   ],
   "source": [
    "doc[1].orth"
   ]
  },
  {
   "cell_type": "code",
   "execution_count": 131,
   "id": "6fa0dc8f-6f29-4c4f-9fa2-82c7719028c7",
   "metadata": {},
   "outputs": [
    {
     "data": {
      "text/plain": [
       "\u001b[0;31mType:\u001b[0m           Vocab\n",
       "\u001b[0;31mString form:\u001b[0m    <spacy.vocab.Vocab object at 0x7fb3816931f0>\n",
       "\u001b[0;31mLength:\u001b[0m         804\n",
       "\u001b[0;31mFile:\u001b[0m           ~/.local/share/virtualenvs/jang0019-4eXq0_Zw/lib/python3.9/site-packages/spacy/vocab.cpython-39-x86_64-linux-gnu.so\n",
       "\u001b[0;31mDocstring:\u001b[0m     \n",
       "Vocab(lex_attr_getters=None, strings=tuple(), lookups=None, oov_prob=-20., vectors_name=None, writing_system={}, get_noun_chunks=None, **deprecated_kwargs)\n",
       "A look-up table that allows you to access `Lexeme` objects. The `Vocab`\n",
       "    instance also provides access to the `StringStore`, and owns underlying\n",
       "    C-data that is shared between `Doc` objects.\n",
       "\n",
       "    DOCS: https://spacy.io/api/vocab\n",
       "    \n",
       "\u001b[0;31mInit docstring:\u001b[0m\n",
       "Create the vocabulary.\n",
       "\n",
       "lex_attr_getters (dict): A dictionary mapping attribute IDs to\n",
       "    functions to compute them. Defaults to `None`.\n",
       "strings (StringStore): StringStore that maps strings to integers, and\n",
       "    vice versa.\n",
       "lookups (Lookups): Container for large lookup tables and dictionaries.\n",
       "oov_prob (float): Default OOV probability.\n",
       "vectors_name (str): Optional name to identify the vectors table.\n",
       "get_noun_chunks (Optional[Callable[[Union[Doc, Span], Iterator[Tuple[int, int, int]]]]]):\n",
       "    A function that yields base noun phrases used for Doc.noun_chunks.\n"
      ]
     },
     "metadata": {},
     "output_type": "display_data"
    }
   ],
   "source": [
    "nlp.vocab?"
   ]
  },
  {
   "cell_type": "code",
   "execution_count": 132,
   "id": "f6629422-0a1b-42f5-aafa-970fd9fe0cff",
   "metadata": {},
   "outputs": [
    {
     "data": {
      "text/plain": [
       "3197928453018144401"
      ]
     },
     "execution_count": 132,
     "metadata": {},
     "output_type": "execute_result"
    }
   ],
   "source": [
    "nlp.vocab.strings[\"coffee\"]"
   ]
  },
  {
   "cell_type": "code",
   "execution_count": 137,
   "id": "10a926d2-d03d-40df-a469-15c8f540ae55",
   "metadata": {},
   "outputs": [
    {
     "data": {
      "text/plain": [
       "1615321019953645392"
      ]
     },
     "execution_count": 137,
     "metadata": {},
     "output_type": "execute_result"
    }
   ],
   "source": [
    "nlp.vocab.strings[\"coffeeew\"]"
   ]
  },
  {
   "cell_type": "code",
   "execution_count": 134,
   "id": "5800472c-e462-4f9e-99ff-9c69185bee66",
   "metadata": {},
   "outputs": [
    {
     "data": {
      "text/plain": [
       "'coffee'"
      ]
     },
     "execution_count": 134,
     "metadata": {},
     "output_type": "execute_result"
    }
   ],
   "source": [
    "nlp.vocab.strings[3197928453018144401]"
   ]
  },
  {
   "cell_type": "code",
   "execution_count": 138,
   "id": "1216bb39-9abd-4413-bde9-fcb81884b215",
   "metadata": {},
   "outputs": [
    {
     "ename": "KeyError",
     "evalue": "\"[E018] Can't retrieve string for hash '1615321019953645392'. This usually refers to an issue with the `Vocab` or `StringStore`.\"",
     "output_type": "error",
     "traceback": [
      "\u001b[0;31m---------------------------------------------------------------------------\u001b[0m",
      "\u001b[0;31mKeyError\u001b[0m                                  Traceback (most recent call last)",
      "Input \u001b[0;32mIn [138]\u001b[0m, in \u001b[0;36m<cell line: 1>\u001b[0;34m()\u001b[0m\n\u001b[0;32m----> 1\u001b[0m \u001b[43mnlp\u001b[49m\u001b[38;5;241;43m.\u001b[39;49m\u001b[43mvocab\u001b[49m\u001b[38;5;241;43m.\u001b[39;49m\u001b[43mstrings\u001b[49m\u001b[43m[\u001b[49m\u001b[38;5;241;43m1615321019953645392\u001b[39;49m\u001b[43m]\u001b[49m\n",
      "File \u001b[0;32m~/.local/share/virtualenvs/jang0019-4eXq0_Zw/lib/python3.9/site-packages/spacy/strings.pyx:132\u001b[0m, in \u001b[0;36mspacy.strings.StringStore.__getitem__\u001b[0;34m()\u001b[0m\n",
      "\u001b[0;31mKeyError\u001b[0m: \"[E018] Can't retrieve string for hash '1615321019953645392'. This usually refers to an issue with the `Vocab` or `StringStore`.\""
     ]
    }
   ],
   "source": [
    "nlp.vocab.strings[1615321019953645392]"
   ]
  },
  {
   "cell_type": "code",
   "execution_count": 139,
   "id": "10051894-7f87-4b49-af07-b69058590c8a",
   "metadata": {},
   "outputs": [],
   "source": [
    "doc = nlp(\"I love coffee .com\")"
   ]
  },
  {
   "cell_type": "code",
   "execution_count": 140,
   "id": "37a49d13-c95f-4b48-8c27-b633e922e94e",
   "metadata": {},
   "outputs": [
    {
     "name": "stdout",
     "output_type": "stream",
     "text": [
      "coffee\n"
     ]
    }
   ],
   "source": [
    "t = doc[2]\n",
    "print(t)"
   ]
  },
  {
   "cell_type": "code",
   "execution_count": 141,
   "id": "7c4e398d-a336-4970-b330-b4a32454634e",
   "metadata": {},
   "outputs": [
    {
     "data": {
      "text/plain": [
       "\u001b[0;31mType:\u001b[0m        Token\n",
       "\u001b[0;31mString form:\u001b[0m coffee\n",
       "\u001b[0;31mLength:\u001b[0m      6\n",
       "\u001b[0;31mFile:\u001b[0m        ~/.local/share/virtualenvs/jang0019-4eXq0_Zw/lib/python3.9/site-packages/spacy/tokens/token.cpython-39-x86_64-linux-gnu.so\n",
       "\u001b[0;31mDocstring:\u001b[0m  \n",
       "An individual token – i.e. a word, punctuation symbol, whitespace,\n",
       "etc.\n",
       "\n",
       "DOCS: https://spacy.io/api/token\n"
      ]
     },
     "metadata": {},
     "output_type": "display_data"
    }
   ],
   "source": [
    "t?"
   ]
  },
  {
   "cell_type": "code",
   "execution_count": 142,
   "id": "1348717b-01b9-4ee3-89d8-c6a9e92feb18",
   "metadata": {},
   "outputs": [
    {
     "data": {
      "text/plain": [
       "3197928453018144401"
      ]
     },
     "execution_count": 142,
     "metadata": {},
     "output_type": "execute_result"
    }
   ],
   "source": [
    "t.orth"
   ]
  },
  {
   "cell_type": "code",
   "execution_count": 143,
   "id": "ff035abe-3be4-4b8c-a07a-96fcbea2b35d",
   "metadata": {},
   "outputs": [],
   "source": [
    "lexeme = nlp.vocab[\"coffee\"]"
   ]
  },
  {
   "cell_type": "code",
   "execution_count": 144,
   "id": "8187a00a-a1cd-4bad-b953-fd4577cc2475",
   "metadata": {},
   "outputs": [
    {
     "data": {
      "text/plain": [
       "\u001b[0;31mType:\u001b[0m           Lexeme\n",
       "\u001b[0;31mString form:\u001b[0m    <spacy.lexeme.Lexeme object at 0x7fb37e51fec0>\n",
       "\u001b[0;31mFile:\u001b[0m           ~/.local/share/virtualenvs/jang0019-4eXq0_Zw/lib/python3.9/site-packages/spacy/lexeme.cpython-39-x86_64-linux-gnu.so\n",
       "\u001b[0;31mDocstring:\u001b[0m     \n",
       "Lexeme(Vocab vocab, attr_t orth)\n",
       "An entry in the vocabulary. A `Lexeme` has no string context – it's a\n",
       "    word-type, as opposed to a word token.  It therefore has no part-of-speech\n",
       "    tag, dependency parse, or lemma (lemmatization depends on the\n",
       "    part-of-speech tag).\n",
       "\n",
       "    DOCS: https://spacy.io/api/lexeme\n",
       "    \n",
       "\u001b[0;31mInit docstring:\u001b[0m\n",
       "Create a Lexeme object.\n",
       "\n",
       "vocab (Vocab): The parent vocabulary\n",
       "orth (uint64): The orth id of the lexeme.\n",
       "Returns (Lexeme): The newly constructd object.\n"
      ]
     },
     "metadata": {},
     "output_type": "display_data"
    }
   ],
   "source": [
    "lexeme?"
   ]
  },
  {
   "cell_type": "code",
   "execution_count": 145,
   "id": "c2a9020c-6621-4054-a93b-c2db10321ee7",
   "metadata": {},
   "outputs": [],
   "source": [
    "nlp = spacy.blank(\"en\")\n",
    "\n",
    "from spacy.tokens import Doc"
   ]
  },
  {
   "cell_type": "code",
   "execution_count": 146,
   "id": "643c6d82-0946-4b7d-99e8-8563b87af5b1",
   "metadata": {},
   "outputs": [
    {
     "data": {
      "text/plain": [
       "\u001b[0;31mDocstring:\u001b[0m     \n",
       "Doc(Vocab vocab, words=None, spaces=None, user_data=None, *, tags=None, pos=None, morphs=None, lemmas=None, heads=None, deps=None, sent_starts=None, ents=None)\n",
       "A sequence of Token objects. Access sentences and named entities, export\n",
       "    annotations to numpy arrays, losslessly serialize to compressed binary\n",
       "    strings. The `Doc` object holds an array of `TokenC` structs. The\n",
       "    Python-level `Token` and `Span` objects are views of this array, i.e.\n",
       "    they don't own the data themselves.\n",
       "\n",
       "    EXAMPLE:\n",
       "        Construction 1\n",
       "        >>> doc = nlp(u'Some text')\n",
       "\n",
       "        Construction 2\n",
       "        >>> from spacy.tokens import Doc\n",
       "        >>> doc = Doc(nlp.vocab, words=[\"hello\", \"world\", \"!\"], spaces=[True, False, False])\n",
       "\n",
       "    DOCS: https://spacy.io/api/doc\n",
       "    \n",
       "\u001b[0;31mInit docstring:\u001b[0m\n",
       "Create a Doc object.\n",
       "\n",
       "vocab (Vocab): A vocabulary object, which must match any models you\n",
       "    want to use (e.g. tokenizer, parser, entity recognizer).\n",
       "words (Optional[List[Union[str, int]]]): A list of unicode strings or\n",
       "    hash values to add to the document as words. If `None`, defaults to\n",
       "    empty list.\n",
       "spaces (Optional[List[bool]]): A list of boolean values, of the same\n",
       "    length as `words`. `True` means that the word is followed by a space,\n",
       "    `False` means it is not. If `None`, defaults to `[True]*len(words)`\n",
       "user_data (dict or None): Optional extra data to attach to the Doc.\n",
       "tags (Optional[List[str]]): A list of unicode strings, of the same\n",
       "    length as words, to assign as token.tag. Defaults to None.\n",
       "pos (Optional[List[str]]): A list of unicode strings, of the same\n",
       "    length as words, to assign as token.pos. Defaults to None.\n",
       "morphs (Optional[List[str]]): A list of unicode strings, of the same\n",
       "    length as words, to assign as token.morph. Defaults to None.\n",
       "lemmas (Optional[List[str]]): A list of unicode strings, of the same\n",
       "    length as words, to assign as token.lemma. Defaults to None.\n",
       "heads (Optional[List[int]]): A list of values, of the same length as\n",
       "    words, to assign as heads. Head indices are the position of the\n",
       "    head in the doc. Defaults to None.\n",
       "deps (Optional[List[str]]): A list of unicode strings, of the same\n",
       "    length as words, to assign as token.dep. Defaults to None.\n",
       "sent_starts (Optional[List[Union[bool, None]]]): A list of values, of\n",
       "    the same length as words, to assign as token.is_sent_start. Will be\n",
       "    overridden by heads if heads is provided. Defaults to None.\n",
       "ents (Optional[List[str]]): A list of unicode strings, of the same\n",
       "    length as words, as IOB tags to assign as token.ent_iob and\n",
       "    token.ent_type. Defaults to None.\n",
       "\n",
       "DOCS: https://spacy.io/api/doc#init\n",
       "\u001b[0;31mFile:\u001b[0m           ~/.local/share/virtualenvs/jang0019-4eXq0_Zw/lib/python3.9/site-packages/spacy/tokens/doc.cpython-39-x86_64-linux-gnu.so\n",
       "\u001b[0;31mType:\u001b[0m           type\n",
       "\u001b[0;31mSubclasses:\u001b[0m     \n"
      ]
     },
     "metadata": {},
     "output_type": "display_data"
    }
   ],
   "source": [
    "Doc?"
   ]
  },
  {
   "cell_type": "code",
   "execution_count": 147,
   "id": "f3e2886d-a8ca-4470-943b-f098318fbc02",
   "metadata": {},
   "outputs": [],
   "source": [
    "words = [\"Go\", \"Oklahoma\", \"Sooners\", \"!\"]\n",
    "spaces = [True, True, True, False]"
   ]
  },
  {
   "cell_type": "code",
   "execution_count": 148,
   "id": "74330d38-aa36-4c36-819c-278790047487",
   "metadata": {},
   "outputs": [],
   "source": [
    "doc = Doc(nlp.vocab, words=words, spaces=spaces)"
   ]
  },
  {
   "cell_type": "code",
   "execution_count": 149,
   "id": "6527fe3b-a805-4eaa-9ed2-f052b8a6b8e5",
   "metadata": {},
   "outputs": [
    {
     "name": "stdout",
     "output_type": "stream",
     "text": [
      "Go\n",
      "Oklahoma\n",
      "Sooners\n",
      "!\n"
     ]
    }
   ],
   "source": [
    "for token in doc:\n",
    "    print(token)"
   ]
  },
  {
   "cell_type": "code",
   "execution_count": 150,
   "id": "78ec0828-2e54-4666-9edd-49ae6769d855",
   "metadata": {},
   "outputs": [
    {
     "data": {
      "text/plain": [
       "Oklahoma Sooners"
      ]
     },
     "execution_count": 150,
     "metadata": {},
     "output_type": "execute_result"
    }
   ],
   "source": [
    "doc[1:3]"
   ]
  },
  {
   "cell_type": "code",
   "execution_count": 151,
   "id": "2a372356-62e5-406e-b866-c435bf1733df",
   "metadata": {},
   "outputs": [],
   "source": [
    "from spacy.tokens import Span"
   ]
  },
  {
   "cell_type": "code",
   "execution_count": 152,
   "id": "cdb377a7-210b-420b-8ae9-f4152032b8a7",
   "metadata": {},
   "outputs": [],
   "source": [
    "span = Span(doc, 1, 3, label=\"University Team\")"
   ]
  },
  {
   "cell_type": "code",
   "execution_count": 153,
   "id": "cc59b206-7210-40d7-9ecc-05735697d1fb",
   "metadata": {},
   "outputs": [
    {
     "name": "stdout",
     "output_type": "stream",
     "text": [
      "Oklahoma Sooners University Team\n"
     ]
    }
   ],
   "source": [
    "doc.ents = [span]\n",
    "for ent in doc.ents:\n",
    "    print(ent.text, ent.label_)"
   ]
  }
 ],
 "metadata": {
  "kernelspec": {
   "display_name": "Python 3 (ipykernel)",
   "language": "python",
   "name": "python3"
  },
  "language_info": {
   "codemirror_mode": {
    "name": "ipython",
    "version": 3
   },
   "file_extension": ".py",
   "mimetype": "text/x-python",
   "name": "python",
   "nbconvert_exporter": "python",
   "pygments_lexer": "ipython3",
   "version": "3.9.7"
  }
 },
 "nbformat": 4,
 "nbformat_minor": 5
}
