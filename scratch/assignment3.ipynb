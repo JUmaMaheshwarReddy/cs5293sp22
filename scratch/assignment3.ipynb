{
 "cells": [
  {
   "cell_type": "code",
   "execution_count": 2,
   "id": "7d96d311-9953-4ad3-8f0a-5e5235706090",
   "metadata": {},
   "outputs": [],
   "source": [
    "import sklearn\n",
    "from sklearn.feature_extraction.text import CountVectorizer"
   ]
  },
  {
   "cell_type": "code",
   "execution_count": null,
   "id": "246c1978-bff9-46e3-aea9-945c60ccf023",
   "metadata": {},
   "outputs": [],
   "source": []
  },
  {
   "cell_type": "code",
   "execution_count": 4,
   "id": "a51b49f4-7545-4da1-b03d-3b13eb5dc281",
   "metadata": {},
   "outputs": [],
   "source": [
    "paragraph = [\"The quick brown fox jumped over the lazy dog\"]"
   ]
  },
  {
   "cell_type": "code",
   "execution_count": 50,
   "id": "ede65518-d064-41f2-a317-d19fa6d3afe5",
   "metadata": {},
   "outputs": [
    {
     "data": {
      "text/plain": [
       "<function Pattern.findall(string, pos=0, endpos=9223372036854775807)>"
      ]
     },
     "execution_count": 50,
     "metadata": {},
     "output_type": "execute_result"
    }
   ],
   "source": [
    "cv = CountVectorizer(min_df=0., max_df=1.)\n",
    "build_vocab = cv.build_tokenizer()\n",
    "build_vocab"
   ]
  },
  {
   "cell_type": "code",
   "execution_count": 64,
   "id": "99728912-6b2d-4d30-8bac-c80e64b5757a",
   "metadata": {},
   "outputs": [
    {
     "data": {
      "text/plain": [
       "[['The', 'quick', 'brown', 'fox', 'jumped', 'over', 'the', 'lazy', 'dog']]"
      ]
     },
     "execution_count": 64,
     "metadata": {},
     "output_type": "execute_result"
    }
   ],
   "source": [
    "import nltk\n",
    "from nltk import tokenize\n",
    "from nltk.tokenize import word_tokenize\n",
    "voc = [word_tokenize(i) for i in paragraph]\n",
    "voc"
   ]
  },
  {
   "cell_type": "code",
   "execution_count": 8,
   "id": "39f85ff1-2bde-4bc3-98a8-5f03ba901ab1",
   "metadata": {},
   "outputs": [
    {
     "data": {
      "text/plain": [
       "array(['brown', 'dog', 'fox', 'jumped', 'lazy', 'over', 'quick', 'the'],\n",
       "      dtype=object)"
      ]
     },
     "execution_count": 8,
     "metadata": {},
     "output_type": "execute_result"
    }
   ],
   "source": [
    "vocab = cv.get_feature_names_out()\n",
    "vocab"
   ]
  },
  {
   "cell_type": "code",
   "execution_count": 65,
   "id": "afb1c286-21b0-4dcf-a92e-3716d6facd57",
   "metadata": {},
   "outputs": [
    {
     "name": "stdout",
     "output_type": "stream",
     "text": [
      "  (0, 7)\t2\n",
      "  (0, 6)\t1\n",
      "  (0, 0)\t1\n",
      "  (0, 2)\t1\n",
      "  (0, 3)\t1\n",
      "  (0, 5)\t1\n",
      "  (0, 4)\t1\n",
      "  (0, 1)\t1\n"
     ]
    }
   ],
   "source": [
    "cv_matrix = cv.fit_transform(paragraph)\n",
    "print(cv_matrix)"
   ]
  },
  {
   "cell_type": "code",
   "execution_count": 12,
   "id": "4787fcff-b7f2-4a3d-9490-a9f588217d23",
   "metadata": {},
   "outputs": [],
   "source": [
    "import sklearn\n",
    "from sklearn.feature_extraction.text import TfidfVectorizer"
   ]
  },
  {
   "cell_type": "code",
   "execution_count": 21,
   "id": "70336647-7674-43e9-86fc-c9caba74516c",
   "metadata": {},
   "outputs": [
    {
     "name": "stdout",
     "output_type": "stream",
     "text": [
      "  (0, 1)\t0.30151134457776363\n",
      "  (0, 4)\t0.30151134457776363\n",
      "  (0, 5)\t0.30151134457776363\n",
      "  (0, 3)\t0.30151134457776363\n",
      "  (0, 2)\t0.30151134457776363\n",
      "  (0, 0)\t0.30151134457776363\n",
      "  (0, 6)\t0.30151134457776363\n",
      "  (0, 7)\t0.6030226891555273\n"
     ]
    }
   ],
   "source": [
    "cvT = TfidfVectorizer()\n",
    "cvT_matrix = cvT.fit_transform(paragraph)\n",
    "print(cvT_matrix)"
   ]
  },
  {
   "cell_type": "code",
   "execution_count": 25,
   "id": "eac280be-5991-46b1-b517-088abc2f507e",
   "metadata": {},
   "outputs": [
    {
     "data": {
      "text/plain": [
       "array(['brown', 'dog', 'fox', 'jumped', 'lazy', 'over', 'quick', 'the'],\n",
       "      dtype=object)"
      ]
     },
     "execution_count": 25,
     "metadata": {},
     "output_type": "execute_result"
    }
   ],
   "source": [
    "vocab = cvT.get_feature_names_out()\n",
    "vocab"
   ]
  },
  {
   "cell_type": "code",
   "execution_count": null,
   "id": "94314823-3655-44e3-b562-9578bb23b64b",
   "metadata": {},
   "outputs": [],
   "source": [
    "build_vocab = cvT.build_tokenizer()\n",
    "build_vocab"
   ]
  },
  {
   "cell_type": "code",
   "execution_count": 15,
   "id": "f4f78b68-ec22-418f-a0af-734d21afae51",
   "metadata": {},
   "outputs": [],
   "source": [
    "import sklearn\n",
    "from sklearn.feature_extraction.text import HashingVectorizer"
   ]
  },
  {
   "cell_type": "code",
   "execution_count": 70,
   "id": "5b6c49f2-0f8c-46cc-968c-06ce96c981a9",
   "metadata": {},
   "outputs": [
    {
     "name": "stdout",
     "output_type": "stream",
     "text": [
      "  (0, 237056)\t0.30151134457776363\n",
      "  (0, 286878)\t-0.6030226891555273\n",
      "  (0, 550107)\t0.30151134457776363\n",
      "  (0, 587725)\t0.30151134457776363\n",
      "  (0, 603831)\t-0.30151134457776363\n",
      "  (0, 768919)\t-0.30151134457776363\n",
      "  (0, 957617)\t0.30151134457776363\n",
      "  (0, 980517)\t-0.30151134457776363\n"
     ]
    }
   ],
   "source": [
    "cvH = HashingVectorizer()\n",
    "cvH_matrix = cvH.fit_transform(paragraph)\n",
    "print(cvH_matrix)"
   ]
  },
  {
   "cell_type": "code",
   "execution_count": 69,
   "id": "8ab9b5b3-01b4-4c53-ac9c-59a2f35ad6f2",
   "metadata": {},
   "outputs": [
    {
     "data": {
      "text/plain": [
       "<function Pattern.findall(string, pos=0, endpos=9223372036854775807)>"
      ]
     },
     "execution_count": 69,
     "metadata": {},
     "output_type": "execute_result"
    }
   ],
   "source": [
    "build_vocab = cvH.build_tokenizer()\n",
    "build_vocab"
   ]
  },
  {
   "cell_type": "code",
   "execution_count": 71,
   "id": "f92b3b25-2229-4ae9-a75c-92579c4d2245",
   "metadata": {},
   "outputs": [],
   "source": [
    "# vocab = cvH.get_features_out()\n",
    "# vocab"
   ]
  },
  {
   "cell_type": "code",
   "execution_count": 39,
   "id": "5bd64891-0dd6-4e09-94ae-7c37dff3534d",
   "metadata": {},
   "outputs": [
    {
     "ename": "ImportError",
     "evalue": "cannot import name 'HashingVectorizer' from 'sklearn' (/home/jang0019/.local/share/virtualenvs/jang0019-4eXq0_Zw/lib/python3.9/site-packages/sklearn/__init__.py)",
     "output_type": "error",
     "traceback": [
      "\u001b[0;31m---------------------------------------------------------------------------\u001b[0m",
      "\u001b[0;31mImportError\u001b[0m                               Traceback (most recent call last)",
      "Input \u001b[0;32mIn [39]\u001b[0m, in \u001b[0;36m<cell line: 2>\u001b[0;34m()\u001b[0m\n\u001b[1;32m      1\u001b[0m \u001b[38;5;28;01mimport\u001b[39;00m \u001b[38;5;21;01msklearn\u001b[39;00m\n\u001b[0;32m----> 2\u001b[0m \u001b[38;5;28;01mfrom\u001b[39;00m \u001b[38;5;21;01msklearn\u001b[39;00m \u001b[38;5;28;01mimport\u001b[39;00m HashingVectorizer\n",
      "\u001b[0;31mImportError\u001b[0m: cannot import name 'HashingVectorizer' from 'sklearn' (/home/jang0019/.local/share/virtualenvs/jang0019-4eXq0_Zw/lib/python3.9/site-packages/sklearn/__init__.py)"
     ]
    }
   ],
   "source": []
  }
 ],
 "metadata": {
  "kernelspec": {
   "display_name": "Python 3 (ipykernel)",
   "language": "python",
   "name": "python3"
  },
  "language_info": {
   "codemirror_mode": {
    "name": "ipython",
    "version": 3
   },
   "file_extension": ".py",
   "mimetype": "text/x-python",
   "name": "python",
   "nbconvert_exporter": "python",
   "pygments_lexer": "ipython3",
   "version": "3.9.7"
  }
 },
 "nbformat": 4,
 "nbformat_minor": 5
}
