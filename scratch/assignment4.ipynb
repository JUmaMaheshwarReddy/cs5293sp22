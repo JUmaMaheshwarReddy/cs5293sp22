{
 "cells": [
  {
   "cell_type": "code",
   "execution_count": 1,
   "id": "a8617845-ea3d-467f-8388-43bb57faade4",
   "metadata": {},
   "outputs": [],
   "source": [
    "import nltk"
   ]
  },
  {
   "cell_type": "code",
   "execution_count": 2,
   "id": "33462ed4-cb31-4c45-aaf2-673be1428436",
   "metadata": {},
   "outputs": [],
   "source": [
    "from nltk.tokenize import sent_tokenize"
   ]
  },
  {
   "cell_type": "code",
   "execution_count": 4,
   "id": "e21c1c2a-7ab3-475d-8483-164eb71a676c",
   "metadata": {},
   "outputs": [],
   "source": [
    "paragraph = '''New York City’s public transportation network is slashing service by at least 25 percent with ridership in free fall and an increasing number of sick workers hobbling its ability to run normally. The decision to cut service on the nation’s largest transportation network on Tuesday came after ridership on the subway plunged a staggering 87 percent — or nearly 4.8 million riders — compared with the same day last year and personnel shortages forced the Metropolitan Transportation Authority, which oversees subways, buses and two commuter rails, to temporarily eliminate service on three subway lines: the B, the W and the Z.New York City’s transportation system typically carries eight million riders each weekday. But the sudden and steep drops in ridership have severely strained the authority’s operating budget, about half of which comes from fares and tolls.'''"
   ]
  },
  {
   "cell_type": "code",
   "execution_count": 11,
   "id": "dc8981f5-fb52-4670-b3d7-c7c58c44d162",
   "metadata": {},
   "outputs": [
    {
     "name": "stdout",
     "output_type": "stream",
     "text": [
      "['New York City’s public transportation network is slashing service by at least 25 percent with ridership in free fall and an increasing number of sick workers hobbling its ability to run normally.', 'The decision to cut service on the nation’s largest transportation network on Tuesday came after ridership on the subway plunged a staggering 87 percent — or nearly 4.8 million riders — compared with the same day last year and personnel shortages forced the Metropolitan Transportation Authority, which oversees subways, buses and two commuter rails, to temporarily eliminate service on three subway lines: the B, the W and the Z.New York City’s transportation system typically carries eight million riders each weekday.', 'But the sudden and steep drops in ridership have severely strained the authority’s operating budget, about half of which comes from fares and tolls.']\n"
     ]
    }
   ],
   "source": [
    "lis = []\n",
    "for i in sent_tokenize(paragraph):\n",
    "    #print(i)\n",
    "    lis.append(i)\n",
    "print(lis)"
   ]
  },
  {
   "cell_type": "code",
   "execution_count": 15,
   "id": "49f83719-592f-4738-9dd3-b46d0c658650",
   "metadata": {},
   "outputs": [
    {
     "ename": "AttributeError",
     "evalue": "'list' object has no attribute 'get_feature_names_out'",
     "output_type": "error",
     "traceback": [
      "\u001b[0;31m---------------------------------------------------------------------------\u001b[0m",
      "\u001b[0;31mAttributeError\u001b[0m                            Traceback (most recent call last)",
      "Input \u001b[0;32mIn [15]\u001b[0m, in \u001b[0;36m<cell line: 3>\u001b[0;34m()\u001b[0m\n\u001b[1;32m      1\u001b[0m \u001b[38;5;28;01mimport\u001b[39;00m \u001b[38;5;21;01msklearn\u001b[39;00m\n\u001b[1;32m      2\u001b[0m \u001b[38;5;28;01mfrom\u001b[39;00m \u001b[38;5;21;01msklearn\u001b[39;00m\u001b[38;5;21;01m.\u001b[39;00m\u001b[38;5;21;01mfeature_extraction\u001b[39;00m\u001b[38;5;21;01m.\u001b[39;00m\u001b[38;5;21;01mtext\u001b[39;00m \u001b[38;5;28;01mimport\u001b[39;00m TfidfVectorizer\n\u001b[0;32m----> 3\u001b[0m voc \u001b[38;5;241m=\u001b[39m \u001b[43mlis\u001b[49m\u001b[38;5;241;43m.\u001b[39;49m\u001b[43mget_feature_names_out\u001b[49m()\n\u001b[1;32m      4\u001b[0m voc\n",
      "\u001b[0;31mAttributeError\u001b[0m: 'list' object has no attribute 'get_feature_names_out'"
     ]
    }
   ],
   "source": [
    "import sklearn\n",
    "from sklearn.feature_extraction.text import TfidfVectorizer\n",
    "\n",
    "voc = lis.get_feature_names_out()\n",
    "voc"
   ]
  },
  {
   "cell_type": "code",
   "execution_count": null,
   "id": "743f0456-b134-4b9f-b4b9-1d306f783570",
   "metadata": {},
   "outputs": [],
   "source": []
  }
 ],
 "metadata": {
  "kernelspec": {
   "display_name": "Python 3 (ipykernel)",
   "language": "python",
   "name": "python3"
  },
  "language_info": {
   "codemirror_mode": {
    "name": "ipython",
    "version": 3
   },
   "file_extension": ".py",
   "mimetype": "text/x-python",
   "name": "python",
   "nbconvert_exporter": "python",
   "pygments_lexer": "ipython3",
   "version": "3.9.7"
  }
 },
 "nbformat": 4,
 "nbformat_minor": 5
}
